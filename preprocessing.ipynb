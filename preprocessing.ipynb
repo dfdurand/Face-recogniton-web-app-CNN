{
 "cells": [
  {
   "cell_type": "code",
   "execution_count": 6,
   "metadata": {},
   "outputs": [],
   "source": [
    "import numpy as np\n",
    "import os\n",
    "from keras.preprocessing.image import ImageDataGenerator\n",
    "from PIL import Image\n",
    "from tensorflow.keras.utils import img_to_array, load_img, array_to_img\n"
   ]
  },
  {
   "cell_type": "code",
   "execution_count": null,
   "metadata": {},
   "outputs": [],
   "source": [
    "# train_datagen = ImageDataGenerator(rescale=1./255, \n",
    "#                                    shear_range=0.2, \n",
    "#                                    zoom_range=0.2, \n",
    "#                                    horizontal_flip=True)\n",
    "\n",
    "# validation_datagen = ImageDataGenerator(rescale=1./255)\n",
    "\n",
    "# training_set = train_datagen.flow_from_directory('dataset/train',\n",
    "#                                                  target_size=(64, 64),\n",
    "#                                                  batch_size=32,\n",
    "#                                                  class_mode='categorical')\n",
    "\n",
    "# validation_set = validation_datagen.flow_from_directory('dataset/validation',\n",
    "#                                                         target_size=(64, 64),\n",
    "#                                                         batch_size=32,\n",
    "#                                                         class_mode='categorical')"
   ]
  },
  {
   "cell_type": "code",
   "execution_count": 7,
   "metadata": {},
   "outputs": [],
   "source": [
    "# Define the data augmentation parameters\n",
    "datagen = ImageDataGenerator(\n",
    "    rotation_range=30,       # Randomly rotate images by up to 30 degrees\n",
    "    # rescale=1./255,\n",
    "    width_shift_range=0.2,   # Randomly shift images horizontally by up to 20% of the width\n",
    "    height_shift_range=0.2,  # Randomly shift images vertically by up to 20% of the height\n",
    "    shear_range=0.2,         # Shear angle in radians\n",
    "    zoom_range=0.2,          # Randomly zoom images by up to 20%\n",
    "    horizontal_flip=True,    # Randomly flip images horizontally\n",
    "    fill_mode='nearest'      # Fill mode for points outside the input boundaries\n",
    ")\n"
   ]
  },
  {
   "cell_type": "markdown",
   "metadata": {},
   "source": [
    "### data augmatation without resize "
   ]
  },
  {
   "cell_type": "code",
   "execution_count": 11,
   "metadata": {},
   "outputs": [],
   "source": [
    "input_directory = 'path/to/dataset/folder_input/name_president'\n",
    "output_directory = 'dataset/president_folder_out' #change path with your own \n",
    "num_augmentations = 5  # Number of augmentations per image\n",
    "\n",
    "for filename in os.listdir(input_directory):\n",
    "    if filename.endswith(('.jpg', '.jpeg')):\n",
    "        img = load_img(os.path.join(input_directory, filename))\n",
    "        x = img_to_array(img)\n",
    "        x = np.expand_dims(x, axis=0)\n",
    "        i = 0\n",
    "        for batch in datagen.flow(x, batch_size=1):\n",
    "            augmented_image = array_to_img(batch[0])\n",
    "            output_filename = f'{os.path.splitext(filename)[0]}_augmented_{i}.jpg'\n",
    "            augmented_image.save(os.path.join(output_directory, output_filename))\n",
    "            i += 1\n",
    "            if i >= num_augmentations:\n",
    "                break\n"
   ]
  },
  {
   "cell_type": "markdown",
   "metadata": {},
   "source": [
    "### data augmentation with resizing"
   ]
  },
  {
   "cell_type": "code",
   "execution_count": null,
   "metadata": {},
   "outputs": [],
   "source": [
    "image_size = (64, 64)  # Adjust the desired image size\n",
    "batch_size = 32\n",
    "\n",
    "train_datagen = ImageDataGenerator(\n",
    "    rescale=1.0 / 255,       # Scale pixel values to [0, 1]\n",
    "    rotation_range=30,\n",
    "    width_shift_range=0.2,\n",
    "    height_shift_range=0.2,\n",
    "    shear_range=0.2,\n",
    "    zoom_range=0.2,\n",
    "    horizontal_flip=True,\n",
    "    fill_mode='nearest'\n",
    ")\n",
    "\n",
    "test_datagen = ImageDataGenerator(rescale=1.0 / 255)\n"
   ]
  },
  {
   "cell_type": "code",
   "execution_count": null,
   "metadata": {},
   "outputs": [],
   "source": []
  }
 ],
 "metadata": {
  "kernelspec": {
   "display_name": "base",
   "language": "python",
   "name": "python3"
  },
  "language_info": {
   "codemirror_mode": {
    "name": "ipython",
    "version": 3
   },
   "file_extension": ".py",
   "mimetype": "text/x-python",
   "name": "python",
   "nbconvert_exporter": "python",
   "pygments_lexer": "ipython3",
   "version": "3.10.9"
  },
  "orig_nbformat": 4
 },
 "nbformat": 4,
 "nbformat_minor": 2
}
